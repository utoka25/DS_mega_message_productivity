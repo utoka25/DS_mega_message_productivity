{
 "cells": [
  {
   "cell_type": "markdown",
   "id": "94fd27f4",
   "metadata": {
    "papermill": {
     "duration": 0.015869,
     "end_time": "2021-08-27T03:39:45.704675",
     "exception": false,
     "start_time": "2021-08-27T03:39:45.688806",
     "status": "completed"
    },
    "tags": []
   },
   "source": [
    "### Создаем соединения с БД"
   ]
  },
  {
   "cell_type": "code",
   "execution_count": 1,
   "id": "828cc215",
   "metadata": {
    "execution": {
     "iopub.execute_input": "2021-08-27T03:39:45.739992Z",
     "iopub.status.busy": "2021-08-27T03:39:45.739449Z",
     "iopub.status.idle": "2021-08-27T03:39:45.753765Z",
     "shell.execute_reply": "2021-08-27T03:39:45.753223Z"
    },
    "papermill": {
     "duration": 0.035538,
     "end_time": "2021-08-27T03:39:45.753913",
     "exception": false,
     "start_time": "2021-08-27T03:39:45.718375",
     "status": "completed"
    },
    "tags": []
   },
   "outputs": [],
   "source": [
    "%load_ext autoreload\n",
    "%autoreload 2"
   ]
  },
  {
   "cell_type": "code",
   "execution_count": 2,
   "id": "014c8ff4-8bc8-4926-8352-784a3f54e086",
   "metadata": {
    "execution": {
     "iopub.execute_input": "2021-08-27T03:39:45.785785Z",
     "iopub.status.busy": "2021-08-27T03:39:45.785247Z",
     "iopub.status.idle": "2021-08-27T03:39:45.794702Z",
     "shell.execute_reply": "2021-08-27T03:39:45.795116Z"
    },
    "papermill": {
     "duration": 0.027069,
     "end_time": "2021-08-27T03:39:45.795262",
     "exception": false,
     "start_time": "2021-08-27T03:39:45.768193",
     "status": "completed"
    },
    "tags": []
   },
   "outputs": [],
   "source": [
    "# Задаю пути для корректного поиска модулей внутри приложения\n",
    "import os\n",
    "import sys\n",
    "\n",
    "src_path = os.getcwd()+'/src/'\n",
    "data_path = os.getcwd()+'/data/'\n",
    "\n",
    "sys.path.insert(0, src_path)\n",
    "sys.path.insert(0, data_path)"
   ]
  },
  {
   "cell_type": "code",
   "execution_count": 3,
   "id": "12bcacd6-85b3-45ba-b5fd-a6914282d099",
   "metadata": {
    "execution": {
     "iopub.execute_input": "2021-08-27T03:39:45.826420Z",
     "iopub.status.busy": "2021-08-27T03:39:45.825903Z",
     "iopub.status.idle": "2021-08-27T03:39:45.835853Z",
     "shell.execute_reply": "2021-08-27T03:39:45.836269Z"
    },
    "papermill": {
     "duration": 0.027343,
     "end_time": "2021-08-27T03:39:45.836421",
     "exception": false,
     "start_time": "2021-08-27T03:39:45.809078",
     "status": "completed"
    },
    "tags": []
   },
   "outputs": [],
   "source": [
    "from settings import *"
   ]
  },
  {
   "cell_type": "code",
   "execution_count": 4,
   "id": "4e0cce41",
   "metadata": {
    "execution": {
     "iopub.execute_input": "2021-08-27T03:39:45.868185Z",
     "iopub.status.busy": "2021-08-27T03:39:45.867668Z",
     "iopub.status.idle": "2021-08-27T03:39:46.435655Z",
     "shell.execute_reply": "2021-08-27T03:39:46.435195Z"
    },
    "papermill": {
     "duration": 0.585179,
     "end_time": "2021-08-27T03:39:46.435780",
     "exception": false,
     "start_time": "2021-08-27T03:39:45.850601",
     "status": "completed"
    },
    "tags": []
   },
   "outputs": [],
   "source": [
    "from ch_client import ClickHouse\n",
    "\n",
    "from sqlalchemy import create_engine\n",
    "import pandas as pd\n",
    "import numpy as np"
   ]
  },
  {
   "cell_type": "code",
   "execution_count": 5,
   "id": "28406ce6-f49d-4fb6-bad2-d2ae627cd5ee",
   "metadata": {
    "execution": {
     "iopub.execute_input": "2021-08-27T03:39:46.469290Z",
     "iopub.status.busy": "2021-08-27T03:39:46.468244Z",
     "iopub.status.idle": "2021-08-27T03:39:46.484264Z",
     "shell.execute_reply": "2021-08-27T03:39:46.484715Z"
    },
    "papermill": {
     "duration": 0.035428,
     "end_time": "2021-08-27T03:39:46.484880",
     "exception": false,
     "start_time": "2021-08-27T03:39:46.449452",
     "status": "completed"
    },
    "tags": []
   },
   "outputs": [],
   "source": [
    "# mysql_client = Mysql(MYSQL_HOST_NAME, MYSQL_USER, MYSQL_PASS, MYSQL_DB_NAME)\n",
    "ch_client = ClickHouse(CH_HOST_NAME, CH_CLIENT_PORT, CH_USER, CH_PASS, CH_DB_NAME)"
   ]
  },
  {
   "cell_type": "code",
   "execution_count": 6,
   "id": "f14ef3c0-33f5-45f3-9802-688ae6f25c03",
   "metadata": {
    "execution": {
     "iopub.execute_input": "2021-08-27T03:39:46.518165Z",
     "iopub.status.busy": "2021-08-27T03:39:46.517646Z",
     "iopub.status.idle": "2021-08-27T03:39:46.808461Z",
     "shell.execute_reply": "2021-08-27T03:39:46.808001Z"
    },
    "papermill": {
     "duration": 0.308819,
     "end_time": "2021-08-27T03:39:46.808583",
     "exception": false,
     "start_time": "2021-08-27T03:39:46.499764",
     "status": "completed"
    },
    "tags": []
   },
   "outputs": [],
   "source": [
    "ch_url = 'clickhouse://' + CH_USER + ':' + CH_PASS + '@' + CH_HOST_NAME + ':' + str(CH_HTTP_PORT) + '/' + CH_DB_NAME\n",
    "ch_engine = create_engine('clickhouse://' + CH_USER + ':' + CH_PASS + '@' + CH_HOST_NAME + ':' + str(CH_HTTP_PORT) + '/' + CH_DB_NAME , echo=False)"
   ]
  },
  {
   "cell_type": "markdown",
   "id": "42f67e6f",
   "metadata": {
    "papermill": {
     "duration": 0.013176,
     "end_time": "2021-08-27T03:39:46.835324",
     "exception": false,
     "start_time": "2021-08-27T03:39:46.822148",
     "status": "completed"
    },
    "tags": []
   },
   "source": [
    "# Обрабатываю данные для анализа"
   ]
  },
  {
   "cell_type": "markdown",
   "id": "ca9ead47-d822-4f7a-988a-4a1309f7577c",
   "metadata": {
    "papermill": {
     "duration": 0.014291,
     "end_time": "2021-08-27T03:39:46.864324",
     "exception": false,
     "start_time": "2021-08-27T03:39:46.850033",
     "status": "completed"
    },
    "tags": []
   },
   "source": [
    "### ЗАДАЧА 1: Катя, 17 июля 2021: Конверсия переписки\n",
    "Как участие переписки сотрудников влияет на создание заказов пользователем"
   ]
  },
  {
   "cell_type": "code",
   "execution_count": 7,
   "id": "a6635d15-ad06-4232-bc97-d739a0ee509b",
   "metadata": {
    "execution": {
     "iopub.execute_input": "2021-08-27T03:39:46.896280Z",
     "iopub.status.busy": "2021-08-27T03:39:46.895659Z",
     "iopub.status.idle": "2021-08-27T03:39:46.919437Z",
     "shell.execute_reply": "2021-08-27T03:39:46.918950Z"
    },
    "papermill": {
     "duration": 0.041477,
     "end_time": "2021-08-27T03:39:46.919557",
     "exception": false,
     "start_time": "2021-08-27T03:39:46.878080",
     "status": "completed"
    },
    "tags": []
   },
   "outputs": [
    {
     "data": {
      "text/plain": [
       "'2020-08-25'"
      ]
     },
     "execution_count": 7,
     "metadata": {},
     "output_type": "execute_result"
    }
   ],
   "source": [
    "date_start_project = pd.Timestamp('today')\n",
    "\n",
    "# Имеет смысл оцениветь треды, созданные в течение последних 367 дней (больше года)\n",
    "date_today = pd.to_datetime('today').date()\n",
    "date_start = (date_today - pd.offsets.Day(367)).strftime(\"%Y-%m-%d\")\n",
    "\n",
    "# date_start = '2020-01-01'\n",
    "\n",
    "date_start"
   ]
  },
  {
   "cell_type": "code",
   "execution_count": 8,
   "id": "b971d8ed-b128-4359-9edf-5554984667f8",
   "metadata": {
    "execution": {
     "iopub.execute_input": "2021-08-27T03:39:46.951711Z",
     "iopub.status.busy": "2021-08-27T03:39:46.951176Z",
     "iopub.status.idle": "2021-08-27T03:39:49.855551Z",
     "shell.execute_reply": "2021-08-27T03:39:49.856006Z"
    },
    "papermill": {
     "duration": 2.922619,
     "end_time": "2021-08-27T03:39:49.856154",
     "exception": false,
     "start_time": "2021-08-27T03:39:46.933535",
     "status": "completed"
    },
    "tags": []
   },
   "outputs": [
    {
     "data": {
      "text/html": [
       "<div>\n",
       "<style scoped>\n",
       "    .dataframe tbody tr th:only-of-type {\n",
       "        vertical-align: middle;\n",
       "    }\n",
       "\n",
       "    .dataframe tbody tr th {\n",
       "        vertical-align: top;\n",
       "    }\n",
       "\n",
       "    .dataframe thead th {\n",
       "        text-align: right;\n",
       "    }\n",
       "</style>\n",
       "<table border=\"1\" class=\"dataframe\">\n",
       "  <thead>\n",
       "    <tr style=\"text-align: right;\">\n",
       "      <th></th>\n",
       "      <th>message_id</th>\n",
       "      <th>client_id</th>\n",
       "      <th>order_id</th>\n",
       "      <th>user_group_name</th>\n",
       "      <th>created_at</th>\n",
       "      <th>user_count</th>\n",
       "      <th>user_message_count</th>\n",
       "      <th>thread_birthday</th>\n",
       "    </tr>\n",
       "  </thead>\n",
       "  <tbody>\n",
       "    <tr>\n",
       "      <th>0</th>\n",
       "      <td>1792983</td>\n",
       "      <td>402567</td>\n",
       "      <td>None</td>\n",
       "      <td>Техническая поддержка</td>\n",
       "      <td>2020-08-25 17:43:32</td>\n",
       "      <td>1</td>\n",
       "      <td>1</td>\n",
       "      <td>2020-08-25 00:25:23</td>\n",
       "    </tr>\n",
       "    <tr>\n",
       "      <th>1</th>\n",
       "      <td>1792986</td>\n",
       "      <td>402568</td>\n",
       "      <td>None</td>\n",
       "      <td>Менеджер по работе с клиентами</td>\n",
       "      <td>2020-08-26 15:58:51</td>\n",
       "      <td>1</td>\n",
       "      <td>1</td>\n",
       "      <td>2020-08-25 00:27:44</td>\n",
       "    </tr>\n",
       "    <tr>\n",
       "      <th>2</th>\n",
       "      <td>1792997</td>\n",
       "      <td>362702</td>\n",
       "      <td>None</td>\n",
       "      <td>Техническая поддержка</td>\n",
       "      <td>2020-08-25 17:47:06</td>\n",
       "      <td>1</td>\n",
       "      <td>1</td>\n",
       "      <td>2020-08-25 00:41:53</td>\n",
       "    </tr>\n",
       "    <tr>\n",
       "      <th>3</th>\n",
       "      <td>1793012</td>\n",
       "      <td>358767</td>\n",
       "      <td>None</td>\n",
       "      <td>Менеджер по работе с клиентами</td>\n",
       "      <td>2020-10-30 13:14:52</td>\n",
       "      <td>1</td>\n",
       "      <td>1</td>\n",
       "      <td>2020-08-25 01:08:06</td>\n",
       "    </tr>\n",
       "    <tr>\n",
       "      <th>4</th>\n",
       "      <td>1793012</td>\n",
       "      <td>358767</td>\n",
       "      <td>None</td>\n",
       "      <td>Техническая поддержка</td>\n",
       "      <td>2020-08-25 17:48:11</td>\n",
       "      <td>1</td>\n",
       "      <td>1</td>\n",
       "      <td>2020-08-25 01:08:06</td>\n",
       "    </tr>\n",
       "    <tr>\n",
       "      <th>...</th>\n",
       "      <td>...</td>\n",
       "      <td>...</td>\n",
       "      <td>...</td>\n",
       "      <td>...</td>\n",
       "      <td>...</td>\n",
       "      <td>...</td>\n",
       "      <td>...</td>\n",
       "      <td>...</td>\n",
       "    </tr>\n",
       "    <tr>\n",
       "      <th>38394</th>\n",
       "      <td>2220970</td>\n",
       "      <td>472069</td>\n",
       "      <td>None</td>\n",
       "      <td>Менеджер по работе с клиентами</td>\n",
       "      <td>2021-07-15 09:20:43</td>\n",
       "      <td>1</td>\n",
       "      <td>1</td>\n",
       "      <td>2021-07-15 06:27:03</td>\n",
       "    </tr>\n",
       "    <tr>\n",
       "      <th>38395</th>\n",
       "      <td>2220977</td>\n",
       "      <td>472072</td>\n",
       "      <td>None</td>\n",
       "      <td>Менеджер по работе с клиентами</td>\n",
       "      <td>2021-07-15 09:24:31</td>\n",
       "      <td>1</td>\n",
       "      <td>1</td>\n",
       "      <td>2021-07-15 06:46:13</td>\n",
       "    </tr>\n",
       "    <tr>\n",
       "      <th>38396</th>\n",
       "      <td>2220980</td>\n",
       "      <td>472075</td>\n",
       "      <td>None</td>\n",
       "      <td>Менеджер по работе с клиентами</td>\n",
       "      <td>2021-07-15 09:18:09</td>\n",
       "      <td>1</td>\n",
       "      <td>1</td>\n",
       "      <td>2021-07-15 07:17:17</td>\n",
       "    </tr>\n",
       "    <tr>\n",
       "      <th>38397</th>\n",
       "      <td>2220996</td>\n",
       "      <td>472083</td>\n",
       "      <td>None</td>\n",
       "      <td>Менеджер по работе с клиентами</td>\n",
       "      <td>2021-07-15 09:13:27</td>\n",
       "      <td>1</td>\n",
       "      <td>1</td>\n",
       "      <td>2021-07-15 08:38:15</td>\n",
       "    </tr>\n",
       "    <tr>\n",
       "      <th>38398</th>\n",
       "      <td>2221000</td>\n",
       "      <td>472088</td>\n",
       "      <td>None</td>\n",
       "      <td>Менеджер по работе с клиентами</td>\n",
       "      <td>2021-07-15 09:12:05</td>\n",
       "      <td>1</td>\n",
       "      <td>1</td>\n",
       "      <td>2021-07-15 09:01:39</td>\n",
       "    </tr>\n",
       "  </tbody>\n",
       "</table>\n",
       "<p>38399 rows × 8 columns</p>\n",
       "</div>"
      ],
      "text/plain": [
       "       message_id  client_id order_id                 user_group_name  \\\n",
       "0         1792983     402567     None           Техническая поддержка   \n",
       "1         1792986     402568     None  Менеджер по работе с клиентами   \n",
       "2         1792997     362702     None           Техническая поддержка   \n",
       "3         1793012     358767     None  Менеджер по работе с клиентами   \n",
       "4         1793012     358767     None           Техническая поддержка   \n",
       "...           ...        ...      ...                             ...   \n",
       "38394     2220970     472069     None  Менеджер по работе с клиентами   \n",
       "38395     2220977     472072     None  Менеджер по работе с клиентами   \n",
       "38396     2220980     472075     None  Менеджер по работе с клиентами   \n",
       "38397     2220996     472083     None  Менеджер по работе с клиентами   \n",
       "38398     2221000     472088     None  Менеджер по работе с клиентами   \n",
       "\n",
       "               created_at  user_count  user_message_count     thread_birthday  \n",
       "0     2020-08-25 17:43:32           1                   1 2020-08-25 00:25:23  \n",
       "1     2020-08-26 15:58:51           1                   1 2020-08-25 00:27:44  \n",
       "2     2020-08-25 17:47:06           1                   1 2020-08-25 00:41:53  \n",
       "3     2020-10-30 13:14:52           1                   1 2020-08-25 01:08:06  \n",
       "4     2020-08-25 17:48:11           1                   1 2020-08-25 01:08:06  \n",
       "...                   ...         ...                 ...                 ...  \n",
       "38394 2021-07-15 09:20:43           1                   1 2021-07-15 06:27:03  \n",
       "38395 2021-07-15 09:24:31           1                   1 2021-07-15 06:46:13  \n",
       "38396 2021-07-15 09:18:09           1                   1 2021-07-15 07:17:17  \n",
       "38397 2021-07-15 09:13:27           1                   1 2021-07-15 08:38:15  \n",
       "38398 2021-07-15 09:12:05           1                   1 2021-07-15 09:01:39  \n",
       "\n",
       "[38399 rows x 8 columns]"
      ]
     },
     "execution_count": 8,
     "metadata": {},
     "output_type": "execute_result"
    }
   ],
   "source": [
    "# Сообщения\n",
    "sql = f''' SELECT DISTINCT mess.message_id,\n",
    "                          mess.client_id as client_id,\n",
    "                          mess.order_id,\n",
    "                          user.group_name as user_group_name,\n",
    "                          min(mess.created_at) as created_at,\n",
    "                          count(DISTINCT mess.manager_id) as user_count,\n",
    "                          count(mess.id) as user_message_count,\n",
    "                          thread_birthday\n",
    "            FROM mega_message as mess\n",
    "            LEFT JOIN mega_user as user\n",
    "                ON mess.manager_id = user.id\n",
    "            WHERE \n",
    "                mess.manager_id is not null\n",
    "                AND mess.order_id is null\n",
    "                AND mess.thread_birthday >= toDate('{date_start}')\n",
    "--              AND mess.client_id IN(136062, 167)\n",
    "--              AND mess.manager_id = 7004\n",
    "            GROUP BY mess.message_id,\n",
    "                  mess.client_id,\n",
    "                  user.group_name,\n",
    "                  mess.order_id,\n",
    "                  thread_birthday\n",
    "            ORDER BY message_id\n",
    "            FORMAT TabSeparatedWithNamesAndTypes'''\n",
    "message = pd.read_sql_query(sql, ch_engine,)\n",
    "message"
   ]
  },
  {
   "cell_type": "code",
   "execution_count": 9,
   "id": "36d04ed1-fa93-4b5f-9b1b-b5b37fee0bfc",
   "metadata": {
    "execution": {
     "iopub.execute_input": "2021-08-27T03:39:49.890361Z",
     "iopub.status.busy": "2021-08-27T03:39:49.889837Z",
     "iopub.status.idle": "2021-08-27T03:39:49.907840Z",
     "shell.execute_reply": "2021-08-27T03:39:49.907417Z"
    },
    "papermill": {
     "duration": 0.036455,
     "end_time": "2021-08-27T03:39:49.907963",
     "exception": false,
     "start_time": "2021-08-27T03:39:49.871508",
     "status": "completed"
    },
    "tags": []
   },
   "outputs": [
    {
     "name": "stdout",
     "output_type": "stream",
     "text": [
      "40411\n",
      "38399\n",
      "48096\n"
     ]
    }
   ],
   "source": [
    "print(message.user_count.sum())\n",
    "print(message.user_count.count())\n",
    "print(message.user_message_count.sum())"
   ]
  },
  {
   "cell_type": "code",
   "execution_count": 10,
   "id": "10ea2a85-bf85-4254-95e0-e4627b11c4b4",
   "metadata": {
    "execution": {
     "iopub.execute_input": "2021-08-27T03:39:49.944295Z",
     "iopub.status.busy": "2021-08-27T03:39:49.943730Z",
     "iopub.status.idle": "2021-08-27T03:39:52.626992Z",
     "shell.execute_reply": "2021-08-27T03:39:52.626544Z"
    },
    "papermill": {
     "duration": 2.702777,
     "end_time": "2021-08-27T03:39:52.627110",
     "exception": false,
     "start_time": "2021-08-27T03:39:49.924333",
     "status": "completed"
    },
    "tags": []
   },
   "outputs": [
    {
     "data": {
      "text/html": [
       "<div>\n",
       "<style scoped>\n",
       "    .dataframe tbody tr th:only-of-type {\n",
       "        vertical-align: middle;\n",
       "    }\n",
       "\n",
       "    .dataframe tbody tr th {\n",
       "        vertical-align: top;\n",
       "    }\n",
       "\n",
       "    .dataframe thead th {\n",
       "        text-align: right;\n",
       "    }\n",
       "</style>\n",
       "<table border=\"1\" class=\"dataframe\">\n",
       "  <thead>\n",
       "    <tr style=\"text-align: right;\">\n",
       "      <th></th>\n",
       "      <th>id</th>\n",
       "      <th>client_id</th>\n",
       "      <th>created_at</th>\n",
       "    </tr>\n",
       "  </thead>\n",
       "  <tbody>\n",
       "    <tr>\n",
       "      <th>0</th>\n",
       "      <td>526334</td>\n",
       "      <td>111</td>\n",
       "      <td>2020-11-13 17:17:20</td>\n",
       "    </tr>\n",
       "    <tr>\n",
       "      <th>1</th>\n",
       "      <td>562474</td>\n",
       "      <td>111</td>\n",
       "      <td>2021-03-31 18:05:59</td>\n",
       "    </tr>\n",
       "    <tr>\n",
       "      <th>2</th>\n",
       "      <td>553502</td>\n",
       "      <td>126</td>\n",
       "      <td>2021-03-01 17:56:21</td>\n",
       "    </tr>\n",
       "    <tr>\n",
       "      <th>3</th>\n",
       "      <td>570691</td>\n",
       "      <td>126</td>\n",
       "      <td>2021-04-27 02:21:43</td>\n",
       "    </tr>\n",
       "    <tr>\n",
       "      <th>4</th>\n",
       "      <td>576466</td>\n",
       "      <td>126</td>\n",
       "      <td>2021-05-15 02:00:48</td>\n",
       "    </tr>\n",
       "    <tr>\n",
       "      <th>...</th>\n",
       "      <td>...</td>\n",
       "      <td>...</td>\n",
       "      <td>...</td>\n",
       "    </tr>\n",
       "    <tr>\n",
       "      <th>54496</th>\n",
       "      <td>596321</td>\n",
       "      <td>472082</td>\n",
       "      <td>2021-07-15 08:36:48</td>\n",
       "    </tr>\n",
       "    <tr>\n",
       "      <th>54497</th>\n",
       "      <td>596322</td>\n",
       "      <td>472084</td>\n",
       "      <td>2021-07-15 08:39:10</td>\n",
       "    </tr>\n",
       "    <tr>\n",
       "      <th>54498</th>\n",
       "      <td>596325</td>\n",
       "      <td>472086</td>\n",
       "      <td>2021-07-15 08:56:20</td>\n",
       "    </tr>\n",
       "    <tr>\n",
       "      <th>54499</th>\n",
       "      <td>596328</td>\n",
       "      <td>472089</td>\n",
       "      <td>2021-07-15 09:04:46</td>\n",
       "    </tr>\n",
       "    <tr>\n",
       "      <th>54500</th>\n",
       "      <td>596329</td>\n",
       "      <td>472090</td>\n",
       "      <td>2021-07-15 09:11:00</td>\n",
       "    </tr>\n",
       "  </tbody>\n",
       "</table>\n",
       "<p>54501 rows × 3 columns</p>\n",
       "</div>"
      ],
      "text/plain": [
       "           id  client_id          created_at\n",
       "0      526334        111 2020-11-13 17:17:20\n",
       "1      562474        111 2021-03-31 18:05:59\n",
       "2      553502        126 2021-03-01 17:56:21\n",
       "3      570691        126 2021-04-27 02:21:43\n",
       "4      576466        126 2021-05-15 02:00:48\n",
       "...       ...        ...                 ...\n",
       "54496  596321     472082 2021-07-15 08:36:48\n",
       "54497  596322     472084 2021-07-15 08:39:10\n",
       "54498  596325     472086 2021-07-15 08:56:20\n",
       "54499  596328     472089 2021-07-15 09:04:46\n",
       "54500  596329     472090 2021-07-15 09:11:00\n",
       "\n",
       "[54501 rows x 3 columns]"
      ]
     },
     "execution_count": 10,
     "metadata": {},
     "output_type": "execute_result"
    }
   ],
   "source": [
    "# Заказы\n",
    "sql = f''' SELECT orders.id, \n",
    "                orders.client_id,\n",
    "                orders.created_at \n",
    "            FROM mega_orders as orders\n",
    "            WHERE \n",
    "                payed_summa >= summa\n",
    "                AND orders.created_at >= toDate('{date_start}')\n",
    "            ORDER BY client_id, created_at\n",
    "            FORMAT TabSeparatedWithNamesAndTypes'''\n",
    "orders = pd.read_sql(sql, ch_engine)\n",
    "orders"
   ]
  },
  {
   "cell_type": "code",
   "execution_count": 11,
   "id": "f044bd88-08fd-4022-a7de-262cab19e622",
   "metadata": {
    "execution": {
     "iopub.execute_input": "2021-08-27T03:39:52.662846Z",
     "iopub.status.busy": "2021-08-27T03:39:52.662314Z",
     "iopub.status.idle": "2021-08-27T03:41:42.324723Z",
     "shell.execute_reply": "2021-08-27T03:41:42.325146Z"
    },
    "papermill": {
     "duration": 109.682678,
     "end_time": "2021-08-27T03:41:42.325296",
     "exception": false,
     "start_time": "2021-08-27T03:39:52.642618",
     "status": "completed"
    },
    "tags": []
   },
   "outputs": [
    {
     "name": "stdout",
     "output_type": "stream",
     "text": [
      "ok\n"
     ]
    }
   ],
   "source": [
    "# В течение скольки дней после начала переписки клиент сделал заказ\n",
    "\n",
    "message['days_to_order'] = 0\n",
    "series_days = pd.Series([0])\n",
    "for index, row in message.iterrows():\n",
    "    message_created_at = row['created_at']\n",
    "    message_client_id = row['client_id']\n",
    "      \n",
    "    next_order = orders \\\n",
    "                .query('client_id == @message_client_id & created_at >= @message_created_at')  \\\n",
    "                .sort_values('created_at', ascending=True) \\\n",
    "                .head(1)\n",
    "    if len(next_order.index) > 0 :\n",
    "        order_created_at = next_order.created_at.iloc[0]\n",
    "        days_to_order = (order_created_at - message_created_at).days + 1\n",
    "        if days_to_order > 366:\n",
    "#           Отслеживаю только те заказы, которые появились в течение года\n",
    "#           367 - условное число => заказ после переписки не зафиксирован\n",
    "            days_to_order = 367\n",
    "    else: \n",
    "        days_to_order = 367\n",
    "    series_days[index] = days_to_order\n",
    "print('ok')\n",
    "message.days_to_order = series_days"
   ]
  },
  {
   "cell_type": "code",
   "execution_count": 12,
   "id": "c4a753b6-b656-4b5e-bd2d-a0335be31d4a",
   "metadata": {
    "execution": {
     "iopub.execute_input": "2021-08-27T03:41:42.361503Z",
     "iopub.status.busy": "2021-08-27T03:41:42.360934Z",
     "iopub.status.idle": "2021-08-27T03:41:42.379672Z",
     "shell.execute_reply": "2021-08-27T03:41:42.380127Z"
    },
    "papermill": {
     "duration": 0.038556,
     "end_time": "2021-08-27T03:41:42.380285",
     "exception": false,
     "start_time": "2021-08-27T03:41:42.341729",
     "status": "completed"
    },
    "tags": []
   },
   "outputs": [],
   "source": [
    "# После время-затратной операции делаю копию message\n",
    "message_copy = message.copy()"
   ]
  },
  {
   "cell_type": "code",
   "execution_count": 13,
   "id": "42cddbfa-dd15-4907-b36e-1aec8ef6b428",
   "metadata": {
    "execution": {
     "iopub.execute_input": "2021-08-27T03:41:42.415032Z",
     "iopub.status.busy": "2021-08-27T03:41:42.414480Z",
     "iopub.status.idle": "2021-08-27T03:41:42.430628Z",
     "shell.execute_reply": "2021-08-27T03:41:42.431046Z"
    },
    "papermill": {
     "duration": 0.03508,
     "end_time": "2021-08-27T03:41:42.431199",
     "exception": false,
     "start_time": "2021-08-27T03:41:42.396119",
     "status": "completed"
    },
    "tags": []
   },
   "outputs": [],
   "source": [
    "# message.info()"
   ]
  },
  {
   "cell_type": "code",
   "execution_count": 14,
   "id": "c3d73116-dd75-4c41-89dc-d1e1610ba44c",
   "metadata": {
    "execution": {
     "iopub.execute_input": "2021-08-27T03:41:42.467214Z",
     "iopub.status.busy": "2021-08-27T03:41:42.466690Z",
     "iopub.status.idle": "2021-08-27T03:41:42.572979Z",
     "shell.execute_reply": "2021-08-27T03:41:42.572534Z"
    },
    "papermill": {
     "duration": 0.126379,
     "end_time": "2021-08-27T03:41:42.573098",
     "exception": false,
     "start_time": "2021-08-27T03:41:42.446719",
     "status": "completed"
    },
    "tags": []
   },
   "outputs": [
    {
     "data": {
      "text/html": [
       "<div>\n",
       "<style scoped>\n",
       "    .dataframe tbody tr th:only-of-type {\n",
       "        vertical-align: middle;\n",
       "    }\n",
       "\n",
       "    .dataframe tbody tr th {\n",
       "        vertical-align: top;\n",
       "    }\n",
       "\n",
       "    .dataframe thead th {\n",
       "        text-align: right;\n",
       "    }\n",
       "</style>\n",
       "<table border=\"1\" class=\"dataframe\">\n",
       "  <thead>\n",
       "    <tr style=\"text-align: right;\">\n",
       "      <th></th>\n",
       "      <th>message_id</th>\n",
       "      <th>client_id</th>\n",
       "      <th>order_id</th>\n",
       "      <th>user_group_name</th>\n",
       "      <th>created_at</th>\n",
       "      <th>user_count</th>\n",
       "      <th>user_message_count</th>\n",
       "      <th>thread_birthday</th>\n",
       "      <th>days_to_order</th>\n",
       "      <th>order_7days</th>\n",
       "      <th>order_14days</th>\n",
       "      <th>order_21days</th>\n",
       "      <th>order_28days</th>\n",
       "      <th>order_365days</th>\n",
       "      <th>no_order</th>\n",
       "    </tr>\n",
       "  </thead>\n",
       "  <tbody>\n",
       "    <tr>\n",
       "      <th>0</th>\n",
       "      <td>1792983</td>\n",
       "      <td>402567</td>\n",
       "      <td>None</td>\n",
       "      <td>Техническая поддержка</td>\n",
       "      <td>2020-08-25 17:43:32</td>\n",
       "      <td>1</td>\n",
       "      <td>1</td>\n",
       "      <td>2020-08-25 00:25:23</td>\n",
       "      <td>367</td>\n",
       "      <td>0</td>\n",
       "      <td>0</td>\n",
       "      <td>0</td>\n",
       "      <td>0</td>\n",
       "      <td>0</td>\n",
       "      <td>1</td>\n",
       "    </tr>\n",
       "    <tr>\n",
       "      <th>1</th>\n",
       "      <td>1792986</td>\n",
       "      <td>402568</td>\n",
       "      <td>None</td>\n",
       "      <td>Менеджер по работе с клиентами</td>\n",
       "      <td>2020-08-26 15:58:51</td>\n",
       "      <td>1</td>\n",
       "      <td>1</td>\n",
       "      <td>2020-08-25 00:27:44</td>\n",
       "      <td>367</td>\n",
       "      <td>0</td>\n",
       "      <td>0</td>\n",
       "      <td>0</td>\n",
       "      <td>0</td>\n",
       "      <td>0</td>\n",
       "      <td>1</td>\n",
       "    </tr>\n",
       "    <tr>\n",
       "      <th>2</th>\n",
       "      <td>1792997</td>\n",
       "      <td>362702</td>\n",
       "      <td>None</td>\n",
       "      <td>Техническая поддержка</td>\n",
       "      <td>2020-08-25 17:47:06</td>\n",
       "      <td>1</td>\n",
       "      <td>1</td>\n",
       "      <td>2020-08-25 00:41:53</td>\n",
       "      <td>101</td>\n",
       "      <td>0</td>\n",
       "      <td>0</td>\n",
       "      <td>0</td>\n",
       "      <td>0</td>\n",
       "      <td>1</td>\n",
       "      <td>0</td>\n",
       "    </tr>\n",
       "    <tr>\n",
       "      <th>3</th>\n",
       "      <td>1793012</td>\n",
       "      <td>358767</td>\n",
       "      <td>None</td>\n",
       "      <td>Менеджер по работе с клиентами</td>\n",
       "      <td>2020-10-30 13:14:52</td>\n",
       "      <td>1</td>\n",
       "      <td>1</td>\n",
       "      <td>2020-08-25 01:08:06</td>\n",
       "      <td>1</td>\n",
       "      <td>1</td>\n",
       "      <td>1</td>\n",
       "      <td>1</td>\n",
       "      <td>1</td>\n",
       "      <td>1</td>\n",
       "      <td>0</td>\n",
       "    </tr>\n",
       "    <tr>\n",
       "      <th>4</th>\n",
       "      <td>1793012</td>\n",
       "      <td>358767</td>\n",
       "      <td>None</td>\n",
       "      <td>Техническая поддержка</td>\n",
       "      <td>2020-08-25 17:48:11</td>\n",
       "      <td>1</td>\n",
       "      <td>1</td>\n",
       "      <td>2020-08-25 01:08:06</td>\n",
       "      <td>67</td>\n",
       "      <td>0</td>\n",
       "      <td>0</td>\n",
       "      <td>0</td>\n",
       "      <td>0</td>\n",
       "      <td>1</td>\n",
       "      <td>0</td>\n",
       "    </tr>\n",
       "    <tr>\n",
       "      <th>...</th>\n",
       "      <td>...</td>\n",
       "      <td>...</td>\n",
       "      <td>...</td>\n",
       "      <td>...</td>\n",
       "      <td>...</td>\n",
       "      <td>...</td>\n",
       "      <td>...</td>\n",
       "      <td>...</td>\n",
       "      <td>...</td>\n",
       "      <td>...</td>\n",
       "      <td>...</td>\n",
       "      <td>...</td>\n",
       "      <td>...</td>\n",
       "      <td>...</td>\n",
       "      <td>...</td>\n",
       "    </tr>\n",
       "    <tr>\n",
       "      <th>38394</th>\n",
       "      <td>2220970</td>\n",
       "      <td>472069</td>\n",
       "      <td>None</td>\n",
       "      <td>Менеджер по работе с клиентами</td>\n",
       "      <td>2021-07-15 09:20:43</td>\n",
       "      <td>1</td>\n",
       "      <td>1</td>\n",
       "      <td>2021-07-15 06:27:03</td>\n",
       "      <td>367</td>\n",
       "      <td>0</td>\n",
       "      <td>0</td>\n",
       "      <td>0</td>\n",
       "      <td>0</td>\n",
       "      <td>0</td>\n",
       "      <td>1</td>\n",
       "    </tr>\n",
       "    <tr>\n",
       "      <th>38395</th>\n",
       "      <td>2220977</td>\n",
       "      <td>472072</td>\n",
       "      <td>None</td>\n",
       "      <td>Менеджер по работе с клиентами</td>\n",
       "      <td>2021-07-15 09:24:31</td>\n",
       "      <td>1</td>\n",
       "      <td>1</td>\n",
       "      <td>2021-07-15 06:46:13</td>\n",
       "      <td>367</td>\n",
       "      <td>0</td>\n",
       "      <td>0</td>\n",
       "      <td>0</td>\n",
       "      <td>0</td>\n",
       "      <td>0</td>\n",
       "      <td>1</td>\n",
       "    </tr>\n",
       "    <tr>\n",
       "      <th>38396</th>\n",
       "      <td>2220980</td>\n",
       "      <td>472075</td>\n",
       "      <td>None</td>\n",
       "      <td>Менеджер по работе с клиентами</td>\n",
       "      <td>2021-07-15 09:18:09</td>\n",
       "      <td>1</td>\n",
       "      <td>1</td>\n",
       "      <td>2021-07-15 07:17:17</td>\n",
       "      <td>367</td>\n",
       "      <td>0</td>\n",
       "      <td>0</td>\n",
       "      <td>0</td>\n",
       "      <td>0</td>\n",
       "      <td>0</td>\n",
       "      <td>1</td>\n",
       "    </tr>\n",
       "    <tr>\n",
       "      <th>38397</th>\n",
       "      <td>2220996</td>\n",
       "      <td>472083</td>\n",
       "      <td>None</td>\n",
       "      <td>Менеджер по работе с клиентами</td>\n",
       "      <td>2021-07-15 09:13:27</td>\n",
       "      <td>1</td>\n",
       "      <td>1</td>\n",
       "      <td>2021-07-15 08:38:15</td>\n",
       "      <td>367</td>\n",
       "      <td>0</td>\n",
       "      <td>0</td>\n",
       "      <td>0</td>\n",
       "      <td>0</td>\n",
       "      <td>0</td>\n",
       "      <td>1</td>\n",
       "    </tr>\n",
       "    <tr>\n",
       "      <th>38398</th>\n",
       "      <td>2221000</td>\n",
       "      <td>472088</td>\n",
       "      <td>None</td>\n",
       "      <td>Менеджер по работе с клиентами</td>\n",
       "      <td>2021-07-15 09:12:05</td>\n",
       "      <td>1</td>\n",
       "      <td>1</td>\n",
       "      <td>2021-07-15 09:01:39</td>\n",
       "      <td>367</td>\n",
       "      <td>0</td>\n",
       "      <td>0</td>\n",
       "      <td>0</td>\n",
       "      <td>0</td>\n",
       "      <td>0</td>\n",
       "      <td>1</td>\n",
       "    </tr>\n",
       "  </tbody>\n",
       "</table>\n",
       "<p>38399 rows × 15 columns</p>\n",
       "</div>"
      ],
      "text/plain": [
       "       message_id  client_id order_id                 user_group_name  \\\n",
       "0         1792983     402567     None           Техническая поддержка   \n",
       "1         1792986     402568     None  Менеджер по работе с клиентами   \n",
       "2         1792997     362702     None           Техническая поддержка   \n",
       "3         1793012     358767     None  Менеджер по работе с клиентами   \n",
       "4         1793012     358767     None           Техническая поддержка   \n",
       "...           ...        ...      ...                             ...   \n",
       "38394     2220970     472069     None  Менеджер по работе с клиентами   \n",
       "38395     2220977     472072     None  Менеджер по работе с клиентами   \n",
       "38396     2220980     472075     None  Менеджер по работе с клиентами   \n",
       "38397     2220996     472083     None  Менеджер по работе с клиентами   \n",
       "38398     2221000     472088     None  Менеджер по работе с клиентами   \n",
       "\n",
       "               created_at  user_count  user_message_count     thread_birthday  \\\n",
       "0     2020-08-25 17:43:32           1                   1 2020-08-25 00:25:23   \n",
       "1     2020-08-26 15:58:51           1                   1 2020-08-25 00:27:44   \n",
       "2     2020-08-25 17:47:06           1                   1 2020-08-25 00:41:53   \n",
       "3     2020-10-30 13:14:52           1                   1 2020-08-25 01:08:06   \n",
       "4     2020-08-25 17:48:11           1                   1 2020-08-25 01:08:06   \n",
       "...                   ...         ...                 ...                 ...   \n",
       "38394 2021-07-15 09:20:43           1                   1 2021-07-15 06:27:03   \n",
       "38395 2021-07-15 09:24:31           1                   1 2021-07-15 06:46:13   \n",
       "38396 2021-07-15 09:18:09           1                   1 2021-07-15 07:17:17   \n",
       "38397 2021-07-15 09:13:27           1                   1 2021-07-15 08:38:15   \n",
       "38398 2021-07-15 09:12:05           1                   1 2021-07-15 09:01:39   \n",
       "\n",
       "       days_to_order  order_7days  order_14days  order_21days  order_28days  \\\n",
       "0                367            0             0             0             0   \n",
       "1                367            0             0             0             0   \n",
       "2                101            0             0             0             0   \n",
       "3                  1            1             1             1             1   \n",
       "4                 67            0             0             0             0   \n",
       "...              ...          ...           ...           ...           ...   \n",
       "38394            367            0             0             0             0   \n",
       "38395            367            0             0             0             0   \n",
       "38396            367            0             0             0             0   \n",
       "38397            367            0             0             0             0   \n",
       "38398            367            0             0             0             0   \n",
       "\n",
       "       order_365days  no_order  \n",
       "0                  0         1  \n",
       "1                  0         1  \n",
       "2                  1         0  \n",
       "3                  1         0  \n",
       "4                  1         0  \n",
       "...              ...       ...  \n",
       "38394              0         1  \n",
       "38395              0         1  \n",
       "38396              0         1  \n",
       "38397              0         1  \n",
       "38398              0         1  \n",
       "\n",
       "[38399 rows x 15 columns]"
      ]
     },
     "execution_count": 14,
     "metadata": {},
     "output_type": "execute_result"
    }
   ],
   "source": [
    "message['order_7days'] = message['days_to_order'].apply(lambda x: 1 if x <= 7 else 0)\n",
    "message['order_14days'] = message['days_to_order'].apply(lambda x: 1 if x <= 14 else 0)\n",
    "message['order_21days'] = message['days_to_order'].apply(lambda x: 1 if x <= 21 else 0)\n",
    "message['order_28days'] = message['days_to_order'].apply(lambda x: 1 if x <= 28 else 0)\n",
    "message['order_365days'] = message['days_to_order'].apply(lambda x: 1 if x <= 366 else 0)\n",
    "message['no_order'] = message['days_to_order'].apply(lambda x: 1 if x == 367 else 0)\n",
    "message"
   ]
  },
  {
   "cell_type": "code",
   "execution_count": 15,
   "id": "ea88a427-6ba5-4b1a-a38d-f08265dae794",
   "metadata": {
    "execution": {
     "iopub.execute_input": "2021-08-27T03:41:42.609468Z",
     "iopub.status.busy": "2021-08-27T03:41:42.608936Z",
     "iopub.status.idle": "2021-08-27T03:41:42.627163Z",
     "shell.execute_reply": "2021-08-27T03:41:42.627683Z"
    },
    "papermill": {
     "duration": 0.038269,
     "end_time": "2021-08-27T03:41:42.627830",
     "exception": false,
     "start_time": "2021-08-27T03:41:42.589561",
     "status": "completed"
    },
    "tags": []
   },
   "outputs": [
    {
     "data": {
      "text/plain": [
       "0    36465\n",
       "1     1934\n",
       "Name: order_7days, dtype: int64"
      ]
     },
     "execution_count": 15,
     "metadata": {},
     "output_type": "execute_result"
    }
   ],
   "source": [
    "message['order_7days'].value_counts()"
   ]
  },
  {
   "cell_type": "code",
   "execution_count": 16,
   "id": "5ec193d1-4856-4bbc-9a2c-ba176907356e",
   "metadata": {
    "execution": {
     "iopub.execute_input": "2021-08-27T03:41:42.665064Z",
     "iopub.status.busy": "2021-08-27T03:41:42.664533Z",
     "iopub.status.idle": "2021-08-27T03:41:42.706384Z",
     "shell.execute_reply": "2021-08-27T03:41:42.705940Z"
    },
    "papermill": {
     "duration": 0.06216,
     "end_time": "2021-08-27T03:41:42.706502",
     "exception": false,
     "start_time": "2021-08-27T03:41:42.644342",
     "status": "completed"
    },
    "tags": []
   },
   "outputs": [
    {
     "data": {
      "text/html": [
       "<div>\n",
       "<style scoped>\n",
       "    .dataframe tbody tr th:only-of-type {\n",
       "        vertical-align: middle;\n",
       "    }\n",
       "\n",
       "    .dataframe tbody tr th {\n",
       "        vertical-align: top;\n",
       "    }\n",
       "\n",
       "    .dataframe thead th {\n",
       "        text-align: right;\n",
       "    }\n",
       "</style>\n",
       "<table border=\"1\" class=\"dataframe\">\n",
       "  <thead>\n",
       "    <tr style=\"text-align: right;\">\n",
       "      <th></th>\n",
       "      <th>order_7days</th>\n",
       "      <th>order_14days</th>\n",
       "      <th>order_21days</th>\n",
       "      <th>order_28days</th>\n",
       "      <th>order_365days</th>\n",
       "      <th>no_order</th>\n",
       "    </tr>\n",
       "    <tr>\n",
       "      <th>user_group_name</th>\n",
       "      <th></th>\n",
       "      <th></th>\n",
       "      <th></th>\n",
       "      <th></th>\n",
       "      <th></th>\n",
       "      <th></th>\n",
       "    </tr>\n",
       "  </thead>\n",
       "  <tbody>\n",
       "    <tr>\n",
       "      <th>Техническая поддержка</th>\n",
       "      <td>1020</td>\n",
       "      <td>1268</td>\n",
       "      <td>1407</td>\n",
       "      <td>1499</td>\n",
       "      <td>2176</td>\n",
       "      <td>15481</td>\n",
       "    </tr>\n",
       "    <tr>\n",
       "      <th>Специалист контактного центра</th>\n",
       "      <td>264</td>\n",
       "      <td>338</td>\n",
       "      <td>388</td>\n",
       "      <td>427</td>\n",
       "      <td>677</td>\n",
       "      <td>4477</td>\n",
       "    </tr>\n",
       "    <tr>\n",
       "      <th>Менеджер по работе с поставщиками</th>\n",
       "      <td>0</td>\n",
       "      <td>0</td>\n",
       "      <td>1</td>\n",
       "      <td>1</td>\n",
       "      <td>4</td>\n",
       "      <td>62</td>\n",
       "    </tr>\n",
       "    <tr>\n",
       "      <th>Менеджер по работе с клиентами</th>\n",
       "      <td>650</td>\n",
       "      <td>860</td>\n",
       "      <td>1015</td>\n",
       "      <td>1122</td>\n",
       "      <td>1766</td>\n",
       "      <td>13756</td>\n",
       "    </tr>\n",
       "  </tbody>\n",
       "</table>\n",
       "</div>"
      ],
      "text/plain": [
       "                                   order_7days  order_14days  order_21days  \\\n",
       "user_group_name                                                              \n",
       "Техническая поддержка                     1020          1268          1407   \n",
       "Специалист контактного центра              264           338           388   \n",
       "Менеджер по работе с поставщиками            0             0             1   \n",
       "Менеджер по работе с клиентами             650           860          1015   \n",
       "\n",
       "                                   order_28days  order_365days  no_order  \n",
       "user_group_name                                                           \n",
       "Техническая поддержка                      1499           2176     15481  \n",
       "Специалист контактного центра               427            677      4477  \n",
       "Менеджер по работе с поставщиками             1              4        62  \n",
       "Менеджер по работе с клиентами             1122           1766     13756  "
      ]
     },
     "execution_count": 16,
     "metadata": {},
     "output_type": "execute_result"
    }
   ],
   "source": [
    "message \\\n",
    "    .query('order_id != order_id') \\\n",
    "    .groupby(['user_group_name']) \\\n",
    "    .aggregate({'order_7days': 'sum',\n",
    "               'order_14days': 'sum',\n",
    "               'order_21days': 'sum',\n",
    "               'order_28days': 'sum',\n",
    "               'order_365days': 'sum',\n",
    "               'no_order': 'sum'}) \\\n",
    "    .sort_values(['user_group_name'],\n",
    "                 ascending=[False]) "
   ]
  },
  {
   "cell_type": "code",
   "execution_count": 17,
   "id": "1780cd03-a244-47d8-95fd-881927e6f2ee",
   "metadata": {
    "execution": {
     "iopub.execute_input": "2021-08-27T03:41:42.743534Z",
     "iopub.status.busy": "2021-08-27T03:41:42.743022Z",
     "iopub.status.idle": "2021-08-27T03:41:42.760308Z",
     "shell.execute_reply": "2021-08-27T03:41:42.759827Z"
    },
    "papermill": {
     "duration": 0.037206,
     "end_time": "2021-08-27T03:41:42.760424",
     "exception": false,
     "start_time": "2021-08-27T03:41:42.723218",
     "status": "completed"
    },
    "tags": []
   },
   "outputs": [
    {
     "data": {
      "text/plain": [
       "38399"
      ]
     },
     "execution_count": 17,
     "metadata": {},
     "output_type": "execute_result"
    }
   ],
   "source": [
    "message['message_id'].size"
   ]
  },
  {
   "cell_type": "markdown",
   "id": "b471385a-b2d9-40f1-8c3a-cf7d332ce72e",
   "metadata": {
    "papermill": {
     "duration": 0.017226,
     "end_time": "2021-08-27T03:41:42.794959",
     "exception": false,
     "start_time": "2021-08-27T03:41:42.777733",
     "status": "completed"
    },
    "tags": []
   },
   "source": []
  },
  {
   "cell_type": "code",
   "execution_count": 18,
   "id": "c1be55ab-0f87-4fc2-bfe9-6fdbfea10a8f",
   "metadata": {
    "execution": {
     "iopub.execute_input": "2021-08-27T03:41:42.832646Z",
     "iopub.status.busy": "2021-08-27T03:41:42.832126Z",
     "iopub.status.idle": "2021-08-27T03:41:43.078221Z",
     "shell.execute_reply": "2021-08-27T03:41:43.078639Z"
    },
    "papermill": {
     "duration": 0.266999,
     "end_time": "2021-08-27T03:41:43.078791",
     "exception": false,
     "start_time": "2021-08-27T03:41:42.811792",
     "status": "completed"
    },
    "tags": []
   },
   "outputs": [],
   "source": [
    "with ch_engine.connect() as connection:\n",
    "    with connection.begin():\n",
    "        r1 = connection.execute(f'''ALTER TABLE mega_message_thread_by_user_group \n",
    "                                    DELETE WHERE thread_birthday>=toDate('{date_start}')''')"
   ]
  },
  {
   "cell_type": "code",
   "execution_count": 19,
   "id": "0b8cab99-b22c-4c79-98cf-f3f3e8d4ff22",
   "metadata": {
    "execution": {
     "iopub.execute_input": "2021-08-27T03:41:43.117464Z",
     "iopub.status.busy": "2021-08-27T03:41:43.116947Z",
     "iopub.status.idle": "2021-08-27T03:41:47.356867Z",
     "shell.execute_reply": "2021-08-27T03:41:47.356301Z"
    },
    "papermill": {
     "duration": 4.260729,
     "end_time": "2021-08-27T03:41:47.356991",
     "exception": false,
     "start_time": "2021-08-27T03:41:43.096262",
     "status": "completed"
    },
    "tags": []
   },
   "outputs": [],
   "source": [
    "message.to_sql('mega_message_thread_by_user_group', ch_engine, if_exists='append', index=False)"
   ]
  },
  {
   "cell_type": "code",
   "execution_count": null,
   "id": "c8fc00e5-e0d7-4d09-a80d-fedb1b5769e6",
   "metadata": {
    "papermill": {
     "duration": 0.017242,
     "end_time": "2021-08-27T03:41:47.391822",
     "exception": false,
     "start_time": "2021-08-27T03:41:47.374580",
     "status": "completed"
    },
    "tags": []
   },
   "outputs": [],
   "source": []
  },
  {
   "cell_type": "markdown",
   "id": "595dbaa6-5be2-492b-a89f-96ebee09edc3",
   "metadata": {
    "papermill": {
     "duration": 0.017005,
     "end_time": "2021-08-27T03:41:47.426122",
     "exception": false,
     "start_time": "2021-08-27T03:41:47.409117",
     "status": "completed"
    },
    "tags": []
   },
   "source": [
    "### Логи"
   ]
  },
  {
   "cell_type": "code",
   "execution_count": 20,
   "id": "0c83e70f-175f-4c10-875b-7ec963f70fc0",
   "metadata": {
    "execution": {
     "iopub.execute_input": "2021-08-27T03:41:47.465746Z",
     "iopub.status.busy": "2021-08-27T03:41:47.465231Z",
     "iopub.status.idle": "2021-08-27T03:41:47.482493Z",
     "shell.execute_reply": "2021-08-27T03:41:47.482887Z"
    },
    "papermill": {
     "duration": 0.039759,
     "end_time": "2021-08-27T03:41:47.483043",
     "exception": false,
     "start_time": "2021-08-27T03:41:47.443284",
     "status": "completed"
    },
    "tags": []
   },
   "outputs": [],
   "source": [
    "from logs import set_log"
   ]
  },
  {
   "cell_type": "code",
   "execution_count": 21,
   "id": "5a9368b2-2895-4e43-8ab1-6ca70925f1d4",
   "metadata": {
    "execution": {
     "iopub.execute_input": "2021-08-27T03:41:47.521508Z",
     "iopub.status.busy": "2021-08-27T03:41:47.520988Z",
     "iopub.status.idle": "2021-08-27T03:41:47.537530Z",
     "shell.execute_reply": "2021-08-27T03:41:47.537067Z"
    },
    "papermill": {
     "duration": 0.037123,
     "end_time": "2021-08-27T03:41:47.537653",
     "exception": false,
     "start_time": "2021-08-27T03:41:47.500530",
     "status": "completed"
    },
    "tags": []
   },
   "outputs": [],
   "source": [
    "date_end_project = pd.Timestamp('today')\n",
    "status = 'OK'\n",
    "rows = message['message_id'].size\n",
    "\n",
    "log = f'''Обновлены данные по тредам созданным с {date_start}: {rows} шт.'''"
   ]
  },
  {
   "cell_type": "code",
   "execution_count": 22,
   "id": "072ab26f-1d49-4147-8e8e-5fb19c8974a8",
   "metadata": {
    "execution": {
     "iopub.execute_input": "2021-08-27T03:41:47.576002Z",
     "iopub.status.busy": "2021-08-27T03:41:47.575488Z",
     "iopub.status.idle": "2021-08-27T03:41:47.820708Z",
     "shell.execute_reply": "2021-08-27T03:41:47.820150Z"
    },
    "papermill": {
     "duration": 0.265694,
     "end_time": "2021-08-27T03:41:47.820831",
     "exception": false,
     "start_time": "2021-08-27T03:41:47.555137",
     "status": "completed"
    },
    "tags": []
   },
   "outputs": [],
   "source": [
    "set_log(ch_engine, PROJECT, TASK, date_start_project, date_end_project, status, log)"
   ]
  },
  {
   "cell_type": "code",
   "execution_count": null,
   "id": "fcdd098c-da49-45ec-bcd6-6d3adb94982f",
   "metadata": {
    "papermill": {
     "duration": 0.017334,
     "end_time": "2021-08-27T03:41:47.855614",
     "exception": false,
     "start_time": "2021-08-27T03:41:47.838280",
     "status": "completed"
    },
    "tags": []
   },
   "outputs": [],
   "source": []
  },
  {
   "cell_type": "code",
   "execution_count": 23,
   "id": "757d58c5-bcad-4f6b-b5a1-bcd5eb2b32bb",
   "metadata": {
    "execution": {
     "iopub.execute_input": "2021-08-27T03:41:47.895311Z",
     "iopub.status.busy": "2021-08-27T03:41:47.894768Z",
     "iopub.status.idle": "2021-08-27T03:41:48.323203Z",
     "shell.execute_reply": "2021-08-27T03:41:48.322781Z"
    },
    "papermill": {
     "duration": 0.44932,
     "end_time": "2021-08-27T03:41:48.323323",
     "exception": false,
     "start_time": "2021-08-27T03:41:47.874003",
     "status": "completed"
    },
    "tags": []
   },
   "outputs": [
    {
     "name": "stderr",
     "output_type": "stream",
     "text": [
      "/Users/user/Dev/Projects/DS/megazip/message_productivity/env/lib/python3.9/site-packages/papermill/iorw.py:50: FutureWarning: pyarrow.HadoopFileSystem is deprecated as of 2.0.0, please use pyarrow.fs.HadoopFileSystem instead.\n",
      "  from pyarrow import HadoopFileSystem\n"
     ]
    }
   ],
   "source": [
    "import papermill"
   ]
  }
 ],
 "metadata": {
  "kernelspec": {
   "display_name": "Python 3 (ipykernel)",
   "language": "python",
   "name": "python3"
  },
  "language_info": {
   "codemirror_mode": {
    "name": "ipython",
    "version": 3
   },
   "file_extension": ".py",
   "mimetype": "text/x-python",
   "name": "python",
   "nbconvert_exporter": "python",
   "pygments_lexer": "ipython3",
   "version": "3.9.4"
  },
  "papermill": {
   "default_parameters": {},
   "duration": 124.089858,
   "end_time": "2021-08-27T03:41:48.762756",
   "environment_variables": {},
   "exception": null,
   "input_path": "src/message_productivity.ipynb",
   "output_path": "src/out.ipynb",
   "parameters": {},
   "start_time": "2021-08-27T03:39:44.672898",
   "version": "2.3.3"
  }
 },
 "nbformat": 4,
 "nbformat_minor": 5
}