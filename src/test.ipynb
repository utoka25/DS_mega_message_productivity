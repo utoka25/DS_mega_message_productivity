{
 "cells": [
  {
   "cell_type": "code",
   "execution_count": 7,
   "id": "2b3d9036-5ea7-4cea-b27d-996b075377e0",
   "metadata": {},
   "outputs": [
    {
     "data": {
      "text/plain": [
       "2"
      ]
     },
     "execution_count": 7,
     "metadata": {},
     "output_type": "execute_result"
    }
   ],
   "source": [
    "import os\n",
    "import sys\n",
    "\n",
    "src_path = os.getcwd()+'/src/'\n",
    "data_path = os.getcwd()+'/data/'\n",
    "\n",
    "sys.path.insert(0, src_path)\n",
    "sys.path.insert(0, data_path)\n",
    "\n",
    "print(sys.path)\n",
    "\n",
    "\n",
    "print(1)\n",
    "print(os.getcwd())\n",
    "2"
   ]
  },
  {
   "cell_type": "code",
   "execution_count": 6,
   "id": "37c2772a-b575-4c15-8f12-440bf95825df",
   "metadata": {},
   "outputs": [],
   "source": [
    "from settings import *"
   ]
  }
 ],
 "metadata": {
  "kernelspec": {
   "display_name": "Python 3 (ipykernel)",
   "language": "python",
   "name": "python3"
  },
  "language_info": {
   "codemirror_mode": {
    "name": "ipython",
    "version": 3
   },
   "file_extension": ".py",
   "mimetype": "text/x-python",
   "name": "python",
   "nbconvert_exporter": "python",
   "pygments_lexer": "ipython3",
   "version": "3.9.4"
  }
 },
 "nbformat": 4,
 "nbformat_minor": 5
}
